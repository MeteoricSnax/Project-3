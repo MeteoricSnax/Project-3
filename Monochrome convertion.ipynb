{
 "cells": [
  {
   "cell_type": "markdown",
   "metadata": {},
   "source": [
    "# Download 3 pictures programmaticaly"
   ]
  },
  {
   "cell_type": "code",
   "execution_count": 6,
   "metadata": {},
   "outputs": [],
   "source": [
    "import urllib.request\n",
    "\n",
    "# The URLs of the images we want to download\n",
    "url1 = \"http://mediad.publicbroadcasting.net/p/shared/npr/styles/placed_wide/nprshared/201904/711739026.jpg\"\n",
    "url2 = \"https://images.homedepot-static.com/productImages/1f1b10fb-6561-404e-aead-243a979ce4a7/svn/tempaper-wallpaper-br556-64_1000.jpg\"\n",
    "url3 = \"https://upload.wikimedia.org/wikipedia/commons/thumb/0/07/1330px_Rainbow_flag_12_colours_black_bordered.svg/800px-1330px_Rainbow_flag_12_colours_black_bordered.svg.png\"\n",
    "\n",
    "# Here we download all the images we want to compare\n",
    "\n",
    "def download_image(url, name=None):\n",
    "    if name == None:\n",
    "        name = url.split('/')[-1]\n",
    "    else:\n",
    "        name += (\".\" + url.split('.')[-1])\n",
    "    fullname = str(name)\n",
    "    urllib.request.urlretrieve(url,fullname)\n",
    "\n",
    "download_image(url1, \"blackHole\")\n",
    "download_image(url2, \"whiteWall\")\n",
    "download_image(url3, \"Rainbow\")"
   ]
  },
  {
   "cell_type": "markdown",
   "metadata": {},
   "source": [
    "# Convert the picture from color to monochrome (black and white)"
   ]
  },
  {
   "cell_type": "code",
   "execution_count": 7,
   "metadata": {},
   "outputs": [
    {
     "name": "stdout",
     "output_type": "stream",
     "text": [
      "------------------------------------------------------------\n",
      "Press 0 to continue\n",
      "------------------------------------------------------------\n"
     ]
    }
   ],
   "source": [
    "import cv2\n",
    "\n",
    "def gray_img(img_name):\n",
    "    # This reads the image from the file location and converts it to monochrome (grayscale)\n",
    "    image = cv2.imread('./' + img_name)\n",
    "    gray_image = cv2.cvtColor(image, cv2.COLOR_BGR2GRAY)\n",
    "    return gray_image\n",
    "\n",
    "gray1 = gray_img('blackHole.jpg')\n",
    "gray2 = gray_img('whiteWall.jpg')\n",
    "gray3 = gray_img('Rainbow.png')\n",
    "\n",
    "# Here we show all the converted gray images\n",
    "\n",
    "print((\"---\")*20)\n",
    "print(\"Press 0 to continue\")\n",
    "print((\"---\")*20)\n",
    "\n",
    "cv2.imshow('Gray1 image',gray1)\n",
    "cv2.imshow('Gray2 image', gray2)\n",
    "cv2.imshow('Gray3 image', gray3)\n",
    "\n",
    "cv2.waitKey(0)\n",
    "cv2.destroyAllWindows()"
   ]
  },
  {
   "cell_type": "markdown",
   "metadata": {},
   "source": [
    "# Compare the overall intensity of colors in the pictures, after they are converted to monochrome"
   ]
  },
  {
   "cell_type": "code",
   "execution_count": 8,
   "metadata": {},
   "outputs": [
    {
     "name": "stdout",
     "output_type": "stream",
     "text": [
      "------------------------------------------------------------------------------------------------------------------------\n",
      "the intensity scale goes from 0 to 255, where a 0 is very low intensity(black) and 255 is very intense (white)\n",
      "34 is the intesity of image 1\n",
      "245 is the intesity of image 2\n",
      "117 is the intesity of image 3\n",
      "------------------------------------------------------------------------------------------------------------------------\n",
      "CONCLUTION:\n",
      "------------------------------------------------------------------------------------------------------------------------\n",
      "This tells us that the intensity of imgage 1 is very dark, as it is a picture of a black hole.\n",
      "In contrast to image 1, image 2 is very bright, as would be expected of a white wall.\n",
      "Finally image 3 is in the middleground, which is to be expected from a rainbow.\n"
     ]
    }
   ],
   "source": [
    "def intensity(image, dim):\n",
    "    # This makes a 1 by 1 pixel version of the image     \n",
    "    # Because of how the resizing works, it gives us a average color intensity of the whole picture\n",
    "    resized_image = cv2.resize(image, dim, interpolation=cv2.INTER_AREA)\n",
    "    return resized_image\n",
    "\n",
    "# Here im selecting the \"color\" of the only pixel left after the resizing.\n",
    "# This effectively gives us the intesity of the picture\n",
    "\n",
    "dim = (1, 1)\n",
    "i1 = intensity(gray1, dim)[0,0]\n",
    "i2 = intensity(gray2, dim)[0,0]\n",
    "i3 = intensity(gray3, dim)[0,0]\n",
    "\n",
    "print((\"---\")*40)\n",
    "print(\"the intensity scale goes from 0 to 255, where a 0 is very low intensity(black) and 255 is very intense (white)\")\n",
    "print(str(i1) + \" is the intesity of image 1\")\n",
    "print(str(i2) + \" is the intesity of image 2\")\n",
    "print(str(i3) + \" is the intesity of image 3\")\n",
    "print((\"---\")*40)\n",
    "print(\"CONCLUTION:\")\n",
    "print((\"---\")*40)\n",
    "print(\"This tells us that the intensity of imgage 1 is very dark, as it is a picture of a black hole.\")\n",
    "print(\"In contrast to image 1, image 2 is very bright, as would be expected of a white wall.\")\n",
    "print(\"Finally image 3 is in the middleground, which is to be expected from a rainbow.\")"
   ]
  }
 ],
 "metadata": {
  "kernelspec": {
   "display_name": "Python 3",
   "language": "python",
   "name": "python3"
  },
  "language_info": {
   "codemirror_mode": {
    "name": "ipython",
    "version": 3
   },
   "file_extension": ".py",
   "mimetype": "text/x-python",
   "name": "python",
   "nbconvert_exporter": "python",
   "pygments_lexer": "ipython3",
   "version": "3.7.1"
  }
 },
 "nbformat": 4,
 "nbformat_minor": 2
}
